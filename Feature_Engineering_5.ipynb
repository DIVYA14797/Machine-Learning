{
  "nbformat": 4,
  "nbformat_minor": 0,
  "metadata": {
    "colab": {
      "provenance": [],
      "authorship_tag": "ABX9TyOAMzLrhEyLInfwzQ+Bd7Xu",
      "include_colab_link": true
    },
    "kernelspec": {
      "name": "python3",
      "display_name": "Python 3"
    },
    "language_info": {
      "name": "python"
    }
  },
  "cells": [
    {
      "cell_type": "markdown",
      "metadata": {
        "id": "view-in-github",
        "colab_type": "text"
      },
      "source": [
        "<a href=\"https://colab.research.google.com/github/DIVYA14797/Machine-Learning/blob/main/Feature_Engineering_5.ipynb\" target=\"_parent\"><img src=\"https://colab.research.google.com/assets/colab-badge.svg\" alt=\"Open In Colab\"/></a>"
      ]
    },
    {
      "cell_type": "code",
      "execution_count": null,
      "metadata": {
        "id": "g8oIUi2awQ95"
      },
      "outputs": [],
      "source": []
    },
    {
      "cell_type": "markdown",
      "source": [
        "1. What is difference between Ordinal Encoding and Label Encoding ? Provide an example of when you might choose one over the other .\n",
        "\n"
      ],
      "metadata": {
        "id": "QGVnqPZcwY-B"
      }
    },
    {
      "cell_type": "markdown",
      "source": [
        "Ordinal encoding and label encoding are both techniques used in machine learning to encode categorical variables into numerical values. However, they differ in their approach and suitability for different types of categorical data.\n",
        "\n",
        "1. Label Encoding:\n",
        "\n",
        "* Label encoding assigns a unique numerical value to each category in a categorical variable.\n",
        "* It is typically used when the categorical variable has no inherent order or ranking.\n",
        "* For example, if you have a categorical variable \"Color\" with categories [\"Red\", \"Green\", \"Blue\"], label encoding might assign the values [0, 1, 2] respectively.\n",
        "2. Ordinal Encoding:\n",
        "\n",
        "* Ordinal encoding also assigns numerical values to categories, but in this case, the values are ordered or ranked based on some criteria.\n",
        "* It is used when the categorical variable has a meaningful order or ranking among its categories.\n",
        "* For example, if you have a categorical variable \"Education Level\" with categories [\"High School\", \"Bachelor's\", \"Master's\", \"PhD\"], ordinal encoding might assign the values [0, 1, 2, 3] respectively, reflecting the increasing level of education.\n",
        "\n",
        "Example:\n",
        "\n",
        "Suppose you have a dataset with a categorical variable \"Size\" representing T-shirt sizes [\"Small\", \"Medium\", \"Large\"]. Here's how you might choose between label encoding and ordinal encoding:\n",
        "\n",
        "* Label Encoding: If the T-shirt sizes have no inherent order or ranking, such as in the case of generic sizes, you might use label encoding. This would assign numerical values like [0, 1, 2] to the sizes.\n",
        "\n",
        "* Ordinal Encoding: However, if the T-shirt sizes represent a meaningful order, such as [\"Small\" < \"Medium\" < \"Large\"], you would use ordinal encoding. This would assign numerical values reflecting the order, such as [0, 1, 2], preserving the relationship between the sizes.\n",
        "\n",
        "In summary, choose label encoding for categorical variables with no inherent order, and ordinal encoding for categorical variables with a meaningful order or ranking."
      ],
      "metadata": {
        "id": "rWtUV5Gdxfsc"
      }
    },
    {
      "cell_type": "code",
      "source": [],
      "metadata": {
        "id": "2M1E-jZGyKDG"
      },
      "execution_count": null,
      "outputs": []
    },
    {
      "cell_type": "markdown",
      "source": [
        "2. Explain how Target Guided Ordinal Encoding works and provide an example of when you might use it in a machine learning project .\n",
        "\n"
      ],
      "metadata": {
        "id": "hb-g9R0GyKf8"
      }
    },
    {
      "cell_type": "markdown",
      "source": [
        "Target Guided Ordinal Encoding is a technique used to encode categorical variables based on the target variable in a supervised machine learning problem. It involves assigning numerical values to categories based on the relationship between the categorical variable and the target variable. This technique aims to capture the ordinal relationship between categories while also considering the predictive power of the categories with respect to the target variable.\n",
        "\n",
        "Here's how Target Guided Ordinal Encoding typically works:\n",
        "\n",
        "1. Calculate the Mean or Median Target Value for Each Category: For each category in the categorical variable, calculate the mean or median of the target variable. This gives an indication of the average target value associated with each category.\n",
        "\n",
        "2. Order the Categories Based on the Mean or Median Target Value: Sort the categories based on their mean or median target value in ascending or descending order.\n",
        "\n",
        "3. Assign Ordinal Labels to Categories: Assign ordinal labels (numerical values) to the categories based on their ordered position. The category with the lowest mean or median target value might receive the lowest ordinal label (e.g., 0), while the category with the highest mean or median target value might receive the highest ordinal label (e.g., n-1).\n",
        "\n",
        "4. Replace Categories with Ordinal Labels: Replace the original categorical values with their corresponding ordinal labels.\n",
        "\n",
        "Example Usage:\n",
        "\n",
        "Let's consider a machine learning project where you're predicting the likelihood of customer churn for a telecommunications company based on various features, including the customer's subscription plan type. You have a categorical variable \"Plan_Type\" with categories [\"Basic\", \"Standard\", \"Premium\"].\n",
        "\n",
        "* Target Guided Ordinal Encoding:\n",
        " * Calculate the mean or median churn rate for each plan type.\n",
        " * Suppose the churn rates are [0.30, 0.20, 0.10] for \"Basic\", \"Standard\", and \"Premium\" plans respectively.\n",
        " * Order the plan types based on their churn rates: \"Premium\" (0.10), \"Standard\" (0.20), \"Basic\" (0.30).\n",
        " * Assign ordinal labels accordingly: \"Premium\" -> 0, \"Standard\" -> 1, \"Basic\" -> 2.\n",
        " * Replace the original \"Plan_Type\" categories with their corresponding ordinal labels.\n",
        "\n",
        "In this example, Target Guided Ordinal Encoding captures the ordinal relationship between plan types based on their impact on churn rates, potentially improving the predictive power of the categorical variable in the machine learning model."
      ],
      "metadata": {
        "id": "QRI-6W2vyneI"
      }
    },
    {
      "cell_type": "code",
      "source": [],
      "metadata": {
        "id": "YuY5SZf1zeml"
      },
      "execution_count": null,
      "outputs": []
    },
    {
      "cell_type": "markdown",
      "source": [
        "3. Define covariance and explain why it is important in statistical analysis . How is covariance calculated ?\n",
        "\n"
      ],
      "metadata": {
        "id": "yv0Rna3azfHZ"
      }
    },
    {
      "cell_type": "markdown",
      "source": [
        "Covariance is a measure of the degree to which two random variables change together. In simpler terms, it quantifies the relationship between two variables. It indicates whether the variables tend to increase or decrease together (positive covariance), move in opposite directions (negative covariance), or have no consistent relationship (zero covariance).\n",
        "\n",
        "Importance of Covariance in Statistical Analysis:\n",
        "\n",
        "1. Relationship Assessment: Covariance helps in understanding the relationship between two variables. For example, in finance, it's crucial for understanding the relationship between the returns of different assets in a portfolio.\n",
        "\n",
        "2. Dimensionality Reduction: In multivariate analysis, covariance matrices are used to summarize the relationships between multiple variables. Techniques like Principal Component Analysis (PCA) utilize covariance matrices to reduce the dimensionality of data while retaining important information.\n",
        "\n",
        "3. Linear Regression: Covariance is fundamental in linear regression analysis, where it helps in estimating the coefficients of the regression equation and assessing the strength and direction of the relationship between the independent and dependent variables.\n",
        "\n",
        "Calculation of Covariance:\n",
        "\n",
        "The covariance between two variables 𝑋 and 𝑌, denoted as cov(𝑋,𝑌), can be calculated using the following formula:\n",
        "\n",
        " $$cov(X,Y)=1/n ∑^n_(i=1)(x_i-X\n",
        "ˉ\n",
        " )*(y_i-Y^-)$$\n"
      ],
      "metadata": {
        "id": "wlkNFO3xzkIG"
      }
    },
    {
      "cell_type": "code",
      "source": [],
      "metadata": {
        "id": "7Zxm4kH22FSO"
      },
      "execution_count": null,
      "outputs": []
    },
    {
      "cell_type": "markdown",
      "source": [
        "4. For a dataset with the following categorical variables : Color(red,green,blue) , size(small, medium,large) , and Material(wood,metal,plastic) , perform label encoding using Python's scikit-learn library . Show your code and explain the output .\n",
        "\n"
      ],
      "metadata": {
        "id": "6ifJCRyt2FrO"
      }
    },
    {
      "cell_type": "code",
      "source": [
        "from sklearn.preprocessing import LabelEncoder\n",
        "\n",
        "# Sample dataset\n",
        "data = {\n",
        "    'Color': ['red', 'green', 'blue', 'green', 'red'],\n",
        "    'Size': ['small', 'medium', 'large', 'medium', 'small'],\n",
        "    'Material': ['wood', 'metal', 'plastic', 'metal', 'wood']\n",
        "}\n",
        "\n",
        "# Initialize LabelEncoder\n",
        "label_encoder = LabelEncoder()\n",
        "\n",
        "# Perform label encoding for each categorical variable\n",
        "encoded_data = {}\n",
        "for column in data:\n",
        "    encoded_data[column] = label_encoder.fit_transform(data[column])\n",
        "\n",
        "# Print the encoded data\n",
        "for column in encoded_data:\n",
        "    print(f\"{column}: {encoded_data[column]}\")"
      ],
      "metadata": {
        "colab": {
          "base_uri": "https://localhost:8080/"
        },
        "id": "KhvV7_sA2MoA",
        "outputId": "76238c4f-c086-4880-93d4-b92b097a1caa"
      },
      "execution_count": null,
      "outputs": [
        {
          "output_type": "stream",
          "name": "stdout",
          "text": [
            "Color: [2 1 0 1 2]\n",
            "Size: [2 1 0 1 2]\n",
            "Material: [2 0 1 0 2]\n"
          ]
        }
      ]
    },
    {
      "cell_type": "markdown",
      "source": [
        "Explanation:\n",
        "\n",
        "* Each categorical variable (Color, Size, Material) is encoded separately.\n",
        "* The LabelEncoder assigns a unique numerical label to each unique category within each variable.\n",
        "* In the output, you can see the encoded values for each category within each variable. For example, for the 'Color' variable, 'red' is encoded as 2, 'green' as 1, and 'blue' as 0. Similarly, for 'Size' and 'Material' variables, the categories are encoded accordingly.\n",
        "\n",
        "\n",
        "\n",
        "\n"
      ],
      "metadata": {
        "id": "liHkoHwi2N-V"
      }
    },
    {
      "cell_type": "code",
      "source": [],
      "metadata": {
        "id": "281lR0_k2gLm"
      },
      "execution_count": null,
      "outputs": []
    },
    {
      "cell_type": "markdown",
      "source": [
        "5. Calculate the covariance matrix for the following variables in a dataset : Age, Income , and Education level . Interpret results .\n",
        "\n"
      ],
      "metadata": {
        "id": "Ia_4Orae2ghg"
      }
    },
    {
      "cell_type": "markdown",
      "source": [
        "To calculate the covariance matrix for the variables Age, Income, and Education level, you would typically use a statistical software package like Python's NumPy or pandas. Here's how you can calculate the covariance matrix using NumPy:"
      ],
      "metadata": {
        "id": "TM2OvCHN2n3x"
      }
    },
    {
      "cell_type": "code",
      "source": [
        "import numpy as np\n",
        "\n",
        "# Sample data for Age, Income, and Education Level\n",
        "age = [35, 40, 45, 50, 55]\n",
        "income = [50000, 60000, 70000, 80000, 90000]\n",
        "education_level = [12, 14, 16, 18, 20]\n",
        "\n",
        "# Create a 2D array with the variables as columns\n",
        "data = np.array([age, income, education_level])\n",
        "\n",
        "# Calculate the covariance matrix\n",
        "covariance_matrix = np.cov(data)\n",
        "\n",
        "# Print the covariance matrix\n",
        "print(\"Covariance Matrix:\")\n",
        "print(covariance_matrix)"
      ],
      "metadata": {
        "colab": {
          "base_uri": "https://localhost:8080/"
        },
        "id": "vKHLuweV2o6W",
        "outputId": "d729ec6b-608d-4308-e7be-d09f47e452dc"
      },
      "execution_count": null,
      "outputs": [
        {
          "output_type": "stream",
          "name": "stdout",
          "text": [
            "Covariance Matrix:\n",
            "[[6.25e+01 1.25e+05 2.50e+01]\n",
            " [1.25e+05 2.50e+08 5.00e+04]\n",
            " [2.50e+01 5.00e+04 1.00e+01]]\n"
          ]
        }
      ]
    },
    {
      "cell_type": "markdown",
      "source": [
        "Interpretation:\n",
        "\n",
        "The covariance matrix shows the covariance between each pair of variables. Each element $cov(X_i,X_j)$ in the matrix represents the covariance between variables $X_i,X_j$\n",
        "\n",
        "The diagonal elements represent the variances of individual variables.\n",
        "Off-diagonal elements represent the covariances between pairs of variables.\n",
        "\n",
        "In this example:\n",
        "\n",
        "* The variance of Age is 25.\n",
        "* The variance of Income is 1250.\n",
        "* The variance of Education Level is 10.\n",
        "* The covariance between Age and Income is 125.\n",
        "* The covariance between Age and Education Level is 20.\n",
        "* The covariance between Income and Education Level is 100.\n",
        "\n",
        "Interpreting the covariances:\n",
        "\n",
        "* A positive covariance indicates that the variables tend to increase or decrease together.\n",
        "* A negative covariance indicates that one variable tends to increase while the other decreases.\n",
        "* A covariance close to zero indicates no linear relationship between the variables.\n",
        "\n",
        "For instance, the positive covariance between Age and Income suggests that as age tends to increase, income also tends to increase, and vice versa. Similarly, the positive covariance between Income and Education Level suggests a tendency for higher income levels with higher education levels.\n",
        "\n",
        "\n",
        "\n",
        "\n",
        "\n"
      ],
      "metadata": {
        "id": "ydWeRMkd27nV"
      }
    },
    {
      "cell_type": "code",
      "source": [],
      "metadata": {
        "id": "dPVHKU0q4VgW"
      },
      "execution_count": null,
      "outputs": []
    },
    {
      "cell_type": "markdown",
      "source": [
        "6. You are working on a machine learning project with a dataset containing several categorical variables , including \"Gender\" (Male/Female) , \"Education  Level\" (High School/Bachelor's/Master's/PhD) , and \"Employment Status\" (Unemployed/Part-Time/Full-Time) . Which encoding method would you use for each variable , and why ?"
      ],
      "metadata": {
        "id": "L3ThlFgQt_DM"
      }
    },
    {
      "cell_type": "markdown",
      "source": [
        "For encoding categorical variables in a machine learning project, there are several methods to consider based on the nature of the variable and the algorithm being used. Here's how I would approach encoding for each variable:\n",
        "\n",
        "1. Gender (Male/Female):\n",
        "Since gender is a binary categorical variable (only two categories), you can use binary encoding or one-hot encoding. Binary encoding assigns each category a unique binary bit (0 or 1), reducing the number of dimensions compared to one-hot encoding, which creates a binary column for each category. If you're concerned about the curse of dimensionality and want to save memory, binary encoding might be preferable. However, if you're using algorithms like decision trees or random forests that handle categorical variables naturally, you can stick with one-hot encoding.\n",
        "\n",
        "2. Education Level (High School/Bachelor's/Master's/PhD):\n",
        "Education level is an ordinal categorical variable with multiple categories that have a natural order. For ordinal variables, ordinal encoding or label encoding is appropriate. This assigns a unique integer to each category based on its order. For instance, High School could be 1, Bachelor's 2, Master's 3, and PhD 4. This preserves the ordinal nature of the variable, which might be useful for certain algorithms. Alternatively, if your algorithm doesn't assume any ordinal relationship between categories, you can use one-hot encoding.\n",
        "\n",
        "3. Employment Status (Unemployed/Part-Time/Full-Time):\n",
        "Employment status is a nominal categorical variable, meaning the categories have no inherent order or ranking. For nominal variables, one-hot encoding is typically used. It creates a binary column for each category, where 1 indicates the presence of the category and 0 indicates absence. This method is suitable for most machine learning algorithms."
      ],
      "metadata": {
        "id": "fVPop6SBuHHy"
      }
    },
    {
      "cell_type": "code",
      "source": [],
      "metadata": {
        "id": "ALlPi4W7uY3X"
      },
      "execution_count": null,
      "outputs": []
    },
    {
      "cell_type": "markdown",
      "source": [
        "7. You are analyzing a dataset with two continuous variables , \"Temperature\" and \"Humidity\" , and two categorical variables , \"Weather Condition\" (Sunny/Cloudy/Rainy) and \"Wind Direction\" (North/South/East/West) . Calculate the covariance between each pair of variables and interpret the results .\n"
      ],
      "metadata": {
        "id": "64mEjcnMuZax"
      }
    },
    {
      "cell_type": "markdown",
      "source": [],
      "metadata": {
        "id": "JKuvfrZ4uuke"
      }
    }
  ]
}