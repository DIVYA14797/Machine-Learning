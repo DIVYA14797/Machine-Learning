{
  "nbformat": 4,
  "nbformat_minor": 0,
  "metadata": {
    "colab": {
      "provenance": [],
      "authorship_tag": "ABX9TyObPoxFwEI7mY/QRtv7hFq6",
      "include_colab_link": true
    },
    "kernelspec": {
      "name": "python3",
      "display_name": "Python 3"
    },
    "language_info": {
      "name": "python"
    }
  },
  "cells": [
    {
      "cell_type": "markdown",
      "metadata": {
        "id": "view-in-github",
        "colab_type": "text"
      },
      "source": [
        "<a href=\"https://colab.research.google.com/github/DIVYA14797/Machine-Learning/blob/main/Statistic_Advance_6.ipynb\" target=\"_parent\"><img src=\"https://colab.research.google.com/assets/colab-badge.svg\" alt=\"Open In Colab\"/></a>"
      ]
    },
    {
      "cell_type": "code",
      "execution_count": null,
      "metadata": {
        "id": "SGZfiaaN4a4I"
      },
      "outputs": [],
      "source": []
    },
    {
      "cell_type": "markdown",
      "source": [
        "1. Explain the assumptions required to use ANOVA and provide examples of violations that could impact the validity of the results."
      ],
      "metadata": {
        "id": "Rqv-9qHG4szJ"
      }
    },
    {
      "cell_type": "markdown",
      "source": [
        "ANOVA (Analysis of Variance) is a statistical method used to compare means across two or more groups to determine if there are statistically significant differences between them. However, ANOVA comes with certain assumptions that need to be met for the results to be valid. Here are the key assumptions and examples of violations:\n",
        "\n",
        "1. Independence of Observations: This assumption requires that the observations within each group are independent of each other. In other words, the value of one observation should not be influenced by the value of another observation within the same group. Violation of this assumption can occur in clustered or correlated data, such as repeated measures designs or nested data.\n",
        "\n",
        " * Example of violation: Conducting ANOVA on data collected from twins where the observations within pairs may be correlated, violating the independence assumption.\n",
        "\n",
        "2. Normality: ANOVA assumes that the residuals (the differences between observed and predicted values) are normally distributed for each group. Violation of this assumption can lead to inaccurate p-values and confidence intervals.\n",
        "\n",
        " * Example of violation: Performing ANOVA on a small sample size where the distribution of residuals is highly skewed or has heavy tails, indicating non-normality.\n",
        "\n",
        "3. Homogeneity of Variance (Homoscedasticity): This assumption states that the variance of the residuals is constant across all levels of the independent variable. In other words, the spread of data points around the mean should be similar across groups. Violation of this assumption can result in unequal variances, affecting the reliability of the F-test.\n",
        "\n",
        " * Example of violation: Comparing the exam scores of students from different schools, where one school has much higher variability in scores compared to others, violating the assumption of homogeneity of variance.\n",
        "\n",
        "4.  Independence of Errors: This assumption states that the residuals of the model are independent of each other. In other words, the error terms in the model are not correlated. Violation of this assumption can lead to biased estimates of the model parameters.\n",
        "\n",
        " * Example of violation: Analyzing time series data using ANOVA without accounting for autocorrelation in the residuals, leading to correlated errors.\n",
        "\n",
        "When these assumptions are violated, alternative approaches or corrections may be needed to ensure the validity of the results. For example, transformations of the data (e.g., log transformation) can sometimes address violations of normality or homogeneity of variance. Additionally, non-parametric tests like the Kruskal-Wallis test can be used as alternatives to ANOVA when assumptions are severely violated."
      ],
      "metadata": {
        "id": "saFowQSh42Dt"
      }
    },
    {
      "cell_type": "code",
      "source": [],
      "metadata": {
        "id": "66ahORb15hst"
      },
      "execution_count": null,
      "outputs": []
    },
    {
      "cell_type": "markdown",
      "source": [
        "2. What are the three types of ANOVA, and in what situations would each be used?"
      ],
      "metadata": {
        "id": "VcaV7nrK5iXq"
      }
    },
    {
      "cell_type": "markdown",
      "source": [
        "The three main types of ANOVA are:\n",
        "\n",
        "1. One-Way ANOVA: This type of ANOVA is used when comparing the means of three or more independent groups on a single continuous dependent variable. It's appropriate when there is one categorical independent variable with three or more levels (groups).\n",
        "\n",
        " * Example: Comparing the effectiveness of three different teaching methods (lectures, online modules, and hands-on activities) on student test scores.\n",
        "\n",
        "2. Two-Way ANOVA: Also known as factorial ANOVA, this type of ANOVA is used when there are two categorical independent variables (factors) and one continuous dependent variable. It examines the main effects of each independent variable as well as any interaction effect between them.\n",
        "\n",
        " * Example: Investigating the effects of both gender and treatment type on patient recovery time after a medical procedure. Here, gender and treatment type are the two independent variables, and patient recovery time is the dependent variable.\n",
        "\n",
        "3. Repeated Measures ANOVA: This type of ANOVA is used when measurements are taken on the same subjects at multiple points in time or under different conditions. It's appropriate when there are three or more measurements (or conditions) within each level of the independent variable.\n",
        "\n",
        " * Example: Assessing the impact of three different exercise programs (low-intensity, moderate-intensity, and high-intensity) on participants' cardiovascular fitness levels measured at baseline, 6 weeks, and 12 weeks. Here, the participants serve as their own controls, and the three measurements represent the repeated measures.\n",
        "\n",
        "Each type of ANOVA is suited to different experimental designs and research questions. One-Way ANOVA is appropriate when comparing multiple groups on a single variable, Two-Way ANOVA is useful for examining the effects of two independent variables simultaneously, and Repeated Measures ANOVA is ideal for analyzing data with repeated measurements on the same subjects. Choosing the correct type of ANOVA depends on the specific research design and hypotheses being tested."
      ],
      "metadata": {
        "id": "51370zf65yCI"
      }
    },
    {
      "cell_type": "code",
      "source": [],
      "metadata": {
        "id": "uI8MagbC6Cw7"
      },
      "execution_count": null,
      "outputs": []
    },
    {
      "cell_type": "markdown",
      "source": [
        "3. What is the partitioning of variance in ANOVA, and why is it important to understand this concept?"
      ],
      "metadata": {
        "id": "3mf1Atox6DMM"
      }
    },
    {
      "cell_type": "markdown",
      "source": [
        "The partitioning of variance in ANOVA refers to the division of the total variance observed in the data into different components that can be attributed to various sources. Understanding this concept is crucial because it provides insights into the relative contributions of different factors to the variability observed in the dependent variable. This partitioning allows researchers to determine the significance of each factor and assess whether the observed differences between groups are statistically significant or simply due to random variation.\n",
        "\n",
        "The partitioning of variance typically involves breaking down the total variance into three main components:\n",
        "\n",
        "1. Between-Group Variance (SS_between): This component of variance represents the variability between the group means. It measures the extent to which the means of the groups differ from each other. In other words, it quantifies the differences among the group means that can be attributed to the effect of the independent variable(s) being studied.\n",
        "\n",
        "2. Within-Group Variance (SS_within or SS_error): Also known as residual variance, this component accounts for the variability within each group. It reflects the extent of variation among individual observations within the same group, after accounting for the differences between group means. It includes random error and any other unexplained sources of variability.\n",
        "\n",
        "3. Total Variance (SS_total): This component represents the overall variability observed in the data, regardless of group membership. It is the sum of the between-group variance and the within-group variance. It provides a baseline measure of the total variability in the dependent variable before considering the effects of the independent variable(s).\n",
        "\n",
        "Understanding the partitioning of variance helps researchers interpret the results of ANOVA by evaluating the relative importance of different factors in explaining the observed differences between groups. It allows for a more nuanced analysis of the data and facilitates the identification of significant effects, which can inform theoretical understanding and practical decision-making. Additionally, partitioning of variance enables researchers to assess the goodness-of-fit of the ANOVA model and the proportion of variability accounted for by the factors under investigation. Overall, comprehending this concept is essential for conducting valid and meaningful analyses using ANOVA."
      ],
      "metadata": {
        "id": "dhByh3Y66OXO"
      }
    },
    {
      "cell_type": "code",
      "source": [],
      "metadata": {
        "id": "y6a_j9He6Unv"
      },
      "execution_count": null,
      "outputs": []
    },
    {
      "cell_type": "markdown",
      "source": [
        "4. How would you calculate the total sum of squares (SST), explained sum of squares (SSE), and residual sum of squares (SSR) in a one-way ANOVA using Python?"
      ],
      "metadata": {
        "id": "oADam53G6VKW"
      }
    },
    {
      "cell_type": "code",
      "source": [
        "group1_data = [1, 2, 3, 4, 5]\n",
        "group2_data = [6, 7, 8, 9, 10]\n",
        "group3_data = [11, 12, 13, 14, 15]"
      ],
      "metadata": {
        "id": "ObXm04hs7SYQ"
      },
      "execution_count": 3,
      "outputs": []
    },
    {
      "cell_type": "code",
      "source": [
        "data = np.array([group1_data, group2_data , group3_data])"
      ],
      "metadata": {
        "id": "SLv5_lWK7JEj"
      },
      "execution_count": 5,
      "outputs": []
    },
    {
      "cell_type": "code",
      "source": [
        "import numpy as np\n",
        "from scipy import stats\n",
        "\n",
        "def one_way_anova(data):\n",
        "    # Calculate grand mean\n",
        "    grand_mean = np.mean(data)\n",
        "\n",
        "    # Calculate total sum of squares (SST)\n",
        "    SST = np.sum((data - grand_mean)**2)\n",
        "\n",
        "    # Calculate group means\n",
        "    group_means = np.mean(data, axis=0)\n",
        "\n",
        "    # Calculate explained sum of squares (SSE)\n",
        "    SSE = np.sum((group_means - grand_mean)**2)\n",
        "\n",
        "    # Calculate residual sum of squares (SSR)\n",
        "    SSR = SST - SSE\n",
        "\n",
        "    return SST, SSE, SSR\n",
        "\n",
        "# Example data (replace this with your actual data)\n",
        "data = np.array([group1_data, group2_data, group3_data])\n",
        "\n",
        "# Calculate sums of squares\n",
        "SST, SSE, SSR = one_way_anova(data)\n",
        "\n",
        "print(\"Total Sum of Squares (SST):\", SST)\n",
        "print(\"Explained Sum of Squares (SSE):\", SSE)\n",
        "print(\"Residual Sum of Squares (SSR):\", SSR)"
      ],
      "metadata": {
        "colab": {
          "base_uri": "https://localhost:8080/"
        },
        "id": "kYeYl5WM6nTh",
        "outputId": "43e743bd-da4a-4296-c0df-9b7e98db566b"
      },
      "execution_count": 7,
      "outputs": [
        {
          "output_type": "stream",
          "name": "stdout",
          "text": [
            "Total Sum of Squares (SST): 280.0\n",
            "Explained Sum of Squares (SSE): 10.0\n",
            "Residual Sum of Squares (SSR): 270.0\n"
          ]
        }
      ]
    },
    {
      "cell_type": "code",
      "source": [],
      "metadata": {
        "id": "nCkSFFEo6xP3"
      },
      "execution_count": null,
      "outputs": []
    },
    {
      "cell_type": "markdown",
      "source": [
        "5. In a two-way ANOVA, how would you calculate the main effects and interaction effects using Python?"
      ],
      "metadata": {
        "id": "YKqucvmR6xn5"
      }
    },
    {
      "cell_type": "code",
      "source": [
        "import numpy as np\n",
        "import pandas as pd\n",
        "import statsmodels.api as sm\n",
        "from statsmodels.formula.api import ols\n",
        "\n",
        "# Example data (replace this with your actual data)\n",
        "# Assuming you have two independent variables (factors) A and B, and a dependent variable Y\n",
        "data = {\n",
        "    'A': [1, 1, 1, 2, 2, 2, 3, 3, 3],\n",
        "    'B': [1, 2, 3, 1, 2, 3, 1, 2, 3],\n",
        "    'Y': [10, 12, 14, 15, 17, 19, 20, 22, 24]\n",
        "}\n",
        "\n",
        "# Create a DataFrame\n",
        "df = pd.DataFrame(data)\n",
        "\n"
      ],
      "metadata": {
        "id": "T0UIH9ow7tRz"
      },
      "execution_count": 15,
      "outputs": []
    },
    {
      "cell_type": "code",
      "source": [
        "missing_values = df.isnull().sum()\n",
        "print(missing_values)"
      ],
      "metadata": {
        "colab": {
          "base_uri": "https://localhost:8080/"
        },
        "id": "U9Rc5sj38Lni",
        "outputId": "d234cfc5-5017-4a41-8c9c-cdd88b99621c"
      },
      "execution_count": 9,
      "outputs": [
        {
          "output_type": "stream",
          "name": "stdout",
          "text": [
            "A    0\n",
            "B    0\n",
            "Y    0\n",
            "dtype: int64\n"
          ]
        }
      ]
    },
    {
      "cell_type": "code",
      "source": [
        "invalid_values = np.isinf(df).sum() + np.isnan(df).sum()\n",
        "print(invalid_values)"
      ],
      "metadata": {
        "colab": {
          "base_uri": "https://localhost:8080/"
        },
        "id": "7z4EPPLd8Y40",
        "outputId": "cab6eb56-52e3-4f3f-f4bf-2fbb6c00e0b8"
      },
      "execution_count": 10,
      "outputs": [
        {
          "output_type": "stream",
          "name": "stdout",
          "text": [
            "A    0\n",
            "B    0\n",
            "Y    0\n",
            "dtype: int64\n"
          ]
        }
      ]
    },
    {
      "cell_type": "code",
      "source": [
        "column_means = df.mean(axis=0)"
      ],
      "metadata": {
        "id": "J6lriwIU9O7y"
      },
      "execution_count": 16,
      "outputs": []
    },
    {
      "cell_type": "code",
      "source": [
        "df = df.fillna(column_means)\n",
        "print(df)"
      ],
      "metadata": {
        "colab": {
          "base_uri": "https://localhost:8080/"
        },
        "id": "ETNnAUkM9ThJ",
        "outputId": "cf959c34-510e-4532-8050-b44648a2d754"
      },
      "execution_count": 17,
      "outputs": [
        {
          "output_type": "stream",
          "name": "stdout",
          "text": [
            "   A  B   Y\n",
            "0  1  1  10\n",
            "1  1  2  12\n",
            "2  1  3  14\n",
            "3  2  1  15\n",
            "4  2  2  17\n",
            "5  2  3  19\n",
            "6  3  1  20\n",
            "7  3  2  22\n",
            "8  3  3  24\n"
          ]
        }
      ]
    },
    {
      "cell_type": "code",
      "source": [
        "# Fit the ANOVA model\n",
        "model = ols('Y ~ C(A) + C(B) + C(A):C(B)', data=df).fit()\n",
        "anova_table = sm.stats.anova_lm(model, typ=2)\n",
        "\n",
        "# Get the main effects and interaction effects\n",
        "main_effects = anova_table['sum_sq'][:-1] / anova_table['sum_sq'].sum()\n",
        "interaction_effect = anova_table['sum_sq'][-1] / anova_table['sum_sq'].sum()\n",
        "\n",
        "print(\"Main Effects:\")\n",
        "print(main_effects)\n",
        "print(\"\\nInteraction Effect:\")\n",
        "print(interaction_effect)"
      ],
      "metadata": {
        "id": "H6q6Klcg9zyc"
      },
      "execution_count": null,
      "outputs": []
    },
    {
      "cell_type": "code",
      "source": [],
      "metadata": {
        "id": "fo_30omM91cI"
      },
      "execution_count": null,
      "outputs": []
    },
    {
      "cell_type": "markdown",
      "source": [
        "6. Suppose you conducted a one-way ANOVA and obtained an F-statistic of 5.23 and a p-value of 0.02.\n",
        "What can you conclude about the differences between the groups, and how would you interpret these\n",
        "results?"
      ],
      "metadata": {
        "id": "swh9or2s92Gu"
      }
    },
    {
      "cell_type": "markdown",
      "source": [
        "When you conduct a one-way ANOVA and obtain an F-statistic of 5.23 and a p-value of 0.02, you can make several conclusions about the differences between the groups. Here’s how to interpret these results:\n",
        "\n",
        "1. F-statistic (5.23): The F-statistic is a measure of the ratio of the variance between the groups to the variance within the groups. An F-statistic of 5.23 suggests that the variance between the group means is 5.23 times larger than the variance within the groups. This indicates that there is a noticeable difference between the group means.\n",
        "\n",
        "2. P-value (0.02): The p-value indicates the probability of observing an F-statistic as extreme as, or more extreme than, the observed value under the null hypothesis (which states that all group means are equal). A p-value of 0.02 means there is a 2% chance that the observed differences between group means occurred by random chance.\n",
        "\n",
        "3. Significance Level (typically α = 0.05): In most scientific research, a significance level of 0.05 is used as a threshold to determine statistical significance. Since the p-value (0.02) is less than the significance level (0.05), you reject the null hypothesis.\n",
        "\n",
        "Conclusion\n",
        "* Reject the Null Hypothesis: Since the p-value is 0.02, which is less than the common significance level of 0.05, you reject the null hypothesis. This suggests that there is sufficient evidence to conclude that at least one group mean is significantly different from the others.\n",
        "\n",
        "Interpretation\n",
        "* Statistically Significant Differences: The results indicate that there are statistically significant differences between the means of the groups. This means that the differences observed are unlikely to have occurred by chance.\n",
        "\n",
        "Additional Considerations\n",
        "* Post-Hoc Tests: While the one-way ANOVA indicates that there are significant differences among the group means, it does not tell you which specific groups are different from each other. To determine which groups differ, you would need to conduct post-hoc tests, such as Tukey's HSD, Bonferroni correction, or other pairwise comparison methods.\n",
        "\n",
        "* Effect Size: It’s also helpful to calculate the effect size (e.g., eta-squared, partial eta-squared) to understand the magnitude of the differences between groups. This provides more context on the practical significance of your findings.\n",
        "\n",
        "Example Interpretation\n",
        "\n",
        "Suppose you are comparing the effectiveness of three different teaching methods (A, B, and C) on student performance. Your one-way ANOVA results (F-statistic = 5.23, p-value = 0.02) suggest that the teaching method has a statistically significant effect on student performance. Specifically, at least one teaching method leads to a significantly different average performance compared to the others. To identify which specific methods differ, you would perform post-hoc tests. Additionally, calculating an effect size would help you understand the practical importance of these differences in educational settings.\n",
        "\n",
        "\n",
        "\n",
        "\n",
        "\n",
        "\n",
        "\n"
      ],
      "metadata": {
        "id": "VAOHaHhC-X2u"
      }
    },
    {
      "cell_type": "code",
      "source": [],
      "metadata": {
        "id": "IEFOCEZ7-ukc"
      },
      "execution_count": null,
      "outputs": []
    },
    {
      "cell_type": "markdown",
      "source": [
        "7. In a repeated measures ANOVA, how would you handle missing data, and what are the potential\n",
        "consequences of using different methods to handle missing data?"
      ],
      "metadata": {
        "id": "3i-Wh-9y-u3j"
      }
    },
    {
      "cell_type": "code",
      "source": [
        "import pandas as pd\n",
        "from sklearn.experimental import enable_iterative_imputer\n",
        "from sklearn.impute import IterativeImputer\n",
        "import statsmodels.api as sm\n",
        "from statsmodels.formula.api import ols\n",
        "\n",
        "# Example DataFrame with missing values\n",
        "data = pd.DataFrame({\n",
        "    'subject': [1, 2, 3, 4, 5],\n",
        "    'time1': [5.1, 7.2, np.nan, 6.3, 8.1],\n",
        "    'time2': [6.2, np.nan, 5.8, 7.1, 7.9],\n",
        "    'time3': [np.nan, 6.8, 6.1, 6.9, 7.5]\n",
        "})\n",
        "\n",
        "# Perform multiple imputation\n",
        "imputer = IterativeImputer(max_iter=10, random_state=0)\n",
        "imputed_data = imputer.fit_transform(data.drop(columns=['subject']))\n",
        "\n",
        "# Create a DataFrame with the imputed data\n",
        "imputed_df = pd.DataFrame(imputed_data, columns=['time1', 'time2', 'time3'])\n",
        "\n",
        "# Add the subject column back\n",
        "imputed_df['subject'] = data['subject']\n",
        "\n",
        "# Reshape the DataFrame for repeated measures ANOVA\n",
        "long_df = pd.melt(imputed_df, id_vars=['subject'], value_vars=['time1', 'time2', 'time3'],\n",
        "                  var_name='time', value_name='score')\n",
        "\n",
        "# Fit the repeated measures ANOVA model\n",
        "model = ols('score ~ C(time) + C(subject)', data=long_df).fit()\n",
        "anova_table = sm.stats.anova_lm(model, typ=2)\n",
        "\n",
        "print(anova_table)"
      ],
      "metadata": {
        "colab": {
          "base_uri": "https://localhost:8080/"
        },
        "id": "tOaUGFNO_Rhn",
        "outputId": "f6d4be0e-1a50-463c-ec38-86a2831aae4a"
      },
      "execution_count": 20,
      "outputs": [
        {
          "output_type": "stream",
          "name": "stdout",
          "text": [
            "              sum_sq   df          F    PR(>F)\n",
            "C(time)     0.517599  2.0   1.214264  0.346312\n",
            "C(subject)  9.330815  4.0  10.944842  0.002497\n",
            "Residual    1.705062  8.0        NaN       NaN\n"
          ]
        }
      ]
    },
    {
      "cell_type": "code",
      "source": [],
      "metadata": {
        "id": "-wZ0utPe_q6T"
      },
      "execution_count": null,
      "outputs": []
    },
    {
      "cell_type": "markdown",
      "source": [
        "8. What are some common post-hoc tests used after ANOVA, and when would you use each one? Provide\n",
        "an example of a situation where a post-hoc test might be necessary."
      ],
      "metadata": {
        "id": "Gef2nbH__rZv"
      }
    },
    {
      "cell_type": "markdown",
      "source": [
        "Post-hoc tests are used after ANOVA when the null hypothesis is rejected, indicating that at least one group mean is significantly different from the others. These tests help determine which specific groups are different. Here are some common post-hoc tests and the situations in which you would use them:\n",
        "\n",
        "1. Tukey's Honest Significant Difference (HSD) Test\n",
        "\n",
        "When to Use:\n",
        "\n",
        "Tukey's HSD is used when you have conducted a one-way ANOVA with equal or nearly equal sample sizes.\n",
        "It controls the Type I error rate and is appropriate for pairwise comparisons among all group means.\n",
        "\n",
        "Example:\n",
        "\n",
        "You have tested the effect of different diets (Diet A, Diet B, Diet C) on weight loss in a study and found a significant effect using ANOVA. Tukey's HSD can determine which diets significantly differ from each other.\n",
        "2. Bonferroni Correction\n",
        "\n",
        "When to Use:\n",
        "\n",
        "The Bonferroni correction is used when you need to make multiple pairwise comparisons and want to control the familywise error rate.\n",
        "It is more conservative and suitable when the number of comparisons is large.\n",
        "\n",
        "Example:\n",
        "\n",
        "In a clinical trial comparing the efficacy of five different drugs, the Bonferroni correction can be used to adjust the significance level for each pairwise comparison to maintain the overall alpha level.\n",
        "3. Scheffé's Test\n",
        "\n",
        "When to Use:\n",
        "\n",
        "Scheffé's test is useful for making complex comparisons (e.g., comparing combinations of group means).\n",
        "It is more flexible but less powerful than Tukey's HSD for simple pairwise comparisons.\n",
        "\n",
        "Example:\n",
        "\n",
        "You want to compare the average test scores of students from three different teaching methods (traditional, online, hybrid) and also investigate the difference between the average of two methods combined versus the third.\n",
        "4. Newman-Keuls Test\n",
        "\n",
        "When to Use:\n",
        "\n",
        "Newman-Keuls is used for pairwise comparisons and is less conservative than Tukey's HSD.\n",
        "It does not control the familywise error rate as strictly, which can be a downside.\n",
        "\n",
        "Example:\n",
        "\n",
        "After finding a significant ANOVA result in a study comparing four different exercise routines on muscle gain, you might use Newman-Keuls to find out which specific routines differ from each other.\n",
        "5. Dunnett's Test\n",
        "\n",
        "When to Use:\n",
        "\n",
        "Dunnett's test is specifically designed to compare multiple treatment groups to a single control group.\n",
        "It controls the Type I error rate for comparisons against the control.\n",
        "\n",
        "Example:\n",
        "\n",
        "In a pharmaceutical study, you compare three new drug formulations to a placebo. Dunnett's test will help you identify which formulations are significantly different from the placebo.\n",
        "\n",
        "Example Situation for Post-Hoc Test\n",
        "\n",
        "Scenario:\n",
        "\n",
        "You conducted a one-way ANOVA to test the effectiveness of four different study techniques (A, B, C, and D) on students' final exam scores. The ANOVA results showed a significant difference among the techniques.\n",
        "\n",
        "Post-Hoc Test Needed:\n",
        "\n",
        "Since the ANOVA indicated significant differences, you need to determine which specific techniques differ from each other.\n",
        "\n",
        "Choice of Post-Hoc Test:\n",
        "\n",
        "* Tukey's HSD would be appropriate to compare all pairs of study techniques, as it is designed for pairwise comparisons and controls the Type I error rate effectively."
      ],
      "metadata": {
        "id": "75ai7FyRAIuX"
      }
    },
    {
      "cell_type": "code",
      "source": [],
      "metadata": {
        "id": "7ZtyoBAdAs2D"
      },
      "execution_count": null,
      "outputs": []
    },
    {
      "cell_type": "markdown",
      "source": [
        "9. A researcher wants to compare the mean weight loss of three diets: A, B, and C. They collect data from\n",
        "50 participants who were randomly assigned to one of the diets. Conduct a one-way ANOVA using Python\n",
        "to determine if there are any significant differences between the mean weight loss of the three diets.\n",
        "Report the F-statistic and p-value, and interpret the results."
      ],
      "metadata": {
        "id": "OKO_i-nWAtNM"
      }
    },
    {
      "cell_type": "code",
      "source": [
        "import pandas as pd\n",
        "import statsmodels.api as sm\n",
        "from statsmodels.formula.api import ols\n",
        "\n",
        "# Example data: weight loss for 50 participants, randomly assigned to diets A, B, and C\n",
        "# For simplicity, we create a small example dataset. Replace with actual data.\n",
        "data = {\n",
        "    'weight_loss': [2.5, 3.0, 2.8, 2.7, 2.9, 3.1, 3.2, 2.6, 2.8, 3.0,\n",
        "                    4.1, 4.3, 4.2, 4.5, 4.0, 4.2, 4.1, 4.4, 4.3, 4.0,\n",
        "                    5.1, 5.3, 5.4, 5.2, 5.0, 5.5, 5.3, 5.2, 5.4, 5.1,\n",
        "                    3.3, 3.5, 3.2, 3.4, 3.6, 3.3, 3.5, 3.6, 3.2, 3.4,\n",
        "                    4.6, 4.7, 4.8, 4.5, 4.9, 4.6, 4.7, 4.8, 4.5, 4.9,\n",
        "                    3.3, 3.5, 3.2, 3.4, 3.6, 3.3, 3.5, 3.6, 3.2, 3.4],\n",
        "    'diet':  ['A', 'A', 'A', 'A', 'A', 'A', 'A', 'A', 'A', 'A',\n",
        "             'B', 'B', 'B', 'B', 'B', 'B', 'B', 'B', 'B', 'B',\n",
        "             'C', 'C', 'C', 'C', 'C', 'C' ,'C', 'C', 'C', 'C',\n",
        "              'A', 'A', 'A', 'A', 'A', 'A', 'A', 'A', 'A', 'A',\n",
        "             'B', 'B', 'B', 'B', 'B', 'B', 'B', 'B', 'B', 'B',\n",
        "             'C', 'C', 'C', 'C', 'C', 'C' ,'C', 'C', 'C', 'C']\n",
        "}\n",
        "\n",
        "# Create a DataFrame\n",
        "df = pd.DataFrame(data)\n",
        "\n",
        "# Fit the ANOVA model\n",
        "model = ols('weight_loss ~ C(diet)', data=df).fit()\n",
        "anova_table = sm.stats.anova_lm(model, typ=2)\n",
        "\n",
        "# Print the ANOVA table\n",
        "print(anova_table)"
      ],
      "metadata": {
        "colab": {
          "base_uri": "https://localhost:8080/"
        },
        "id": "d0IHP26RA-IB",
        "outputId": "89f8e2ac-f201-48d2-cbab-e366b1afb265"
      },
      "execution_count": 25,
      "outputs": [
        {
          "output_type": "stream",
          "name": "stdout",
          "text": [
            "          sum_sq    df          F        PR(>F)\n",
            "C(diet)   21.337   2.0  28.564259  2.550935e-09\n",
            "Residual  21.289  57.0        NaN           NaN\n"
          ]
        }
      ]
    },
    {
      "cell_type": "code",
      "source": [],
      "metadata": {
        "id": "Ie-EbC-GD8rS"
      },
      "execution_count": null,
      "outputs": []
    },
    {
      "cell_type": "markdown",
      "source": [
        "10. A company wants to know if there are any significant differences in the average time it takes to\n",
        "complete a task using three different software programs: Program A, Program B, and Program C. They\n",
        "randomly assign 30 employees to one of the programs and record the time it takes each employee to\n",
        "complete the task. Conduct a two-way ANOVA using Python to determine if there are any main effects or\n",
        "interaction effects between the software programs and employee experience level (novice vs.\n",
        "experienced). Report the F-statistics and p-values, and interpret the results."
      ],
      "metadata": {
        "id": "J7tIv36RD9OZ"
      }
    },
    {
      "cell_type": "code",
      "source": [
        "import pandas as pd\n",
        "import statsmodels.api as sm\n",
        "from statsmodels.formula.api import ols\n",
        "\n",
        "# Example data: time to complete a task for 30 employees\n",
        "# Replace with actual data\n",
        "data = {\n",
        "    'time': [\n",
        "        15, 18, 16, 22, 20, 19,  # Program A, Novice\n",
        "        14, 17, 16, 20, 18, 19,  # Program B, Novice\n",
        "        16, 19, 17, 21, 20, 18,  # Program C, Novice\n",
        "        10, 12, 11, 15, 14, 13,  # Program A, Experienced\n",
        "        9, 11, 10, 14, 13, 12,   # Program B, Experienced\n",
        "        10, 13, 12, 15, 14, 13   # Program C, Experienced\n",
        "    ],\n",
        "    'program': ['A'] * 6 + ['B'] * 6 + ['C'] * 6 + ['A'] * 6 + ['B'] * 6 + ['C'] * 6,\n",
        "    'experience': ['Novice'] * 18 + ['Experienced'] * 18\n",
        "}\n",
        "\n",
        "# Create a DataFrame\n",
        "df = pd.DataFrame(data)\n",
        "\n",
        "# Fit the two-way ANOVA model\n",
        "model = ols('time ~ C(program) * C(experience)', data=df).fit()\n",
        "anova_table = sm.stats.anova_lm(model, typ=2)\n",
        "\n",
        "# Print the ANOVA table\n",
        "print(anova_table)"
      ],
      "metadata": {
        "colab": {
          "base_uri": "https://localhost:8080/"
        },
        "id": "hz8l9PcND-PE",
        "outputId": "41d34736-6974-4882-ab86-59ab885c7426"
      },
      "execution_count": 26,
      "outputs": [
        {
          "output_type": "stream",
          "name": "stdout",
          "text": [
            "                              sum_sq    df          F        PR(>F)\n",
            "C(program)                 10.500000   2.0   1.270161  2.954548e-01\n",
            "C(experience)             300.444444   1.0  72.688172  1.634405e-09\n",
            "C(program):C(experience)    0.055556   2.0   0.006720  9.933036e-01\n",
            "Residual                  124.000000  30.0        NaN           NaN\n"
          ]
        }
      ]
    },
    {
      "cell_type": "code",
      "source": [],
      "metadata": {
        "id": "ELoI-u0EEU4H"
      },
      "execution_count": null,
      "outputs": []
    },
    {
      "cell_type": "markdown",
      "source": [
        "11. An educational researcher is interested in whether a new teaching method improves student test\n",
        "scores. They randomly assign 100 students to either the control group (traditional teaching method) or the\n",
        "experimental group (new teaching method) and administer a test at the end of the semester. Conduct a\n",
        "two-sample t-test using Python to determine if there are any significant differences in test scores\n",
        "between the two groups. If the results are significant, follow up with a post-hoc test to determine which\n",
        "group(s) differ significantly from each other."
      ],
      "metadata": {
        "id": "OwSNBexdEVZx"
      }
    },
    {
      "cell_type": "code",
      "source": [
        "import pandas as pd\n",
        "from scipy import stats\n",
        "\n",
        "# Example data: test scores for 100 students\n",
        "# 50 students in control group, 50 students in experimental group\n",
        "# For simplicity, we create a small example dataset. Replace with actual data.\n",
        "data = {\n",
        "    'test_score': [\n",
        "        75, 80, 82, 78, 74, 81, 77, 79, 80, 76,\n",
        "        85, 87, 83, 86, 88, 84, 89, 82, 86, 90,\n",
        "        68, 72, 70, 65, 69, 67, 71, 73, 75, 64,\n",
        "        93, 91, 89, 92, 90, 94, 88, 95, 91, 87,\n",
        "        79, 82, 80, 78, 81, 83, 77, 85, 84, 86,\n",
        "        73, 71, 69, 72, 75, 68, 70, 74, 66, 72,\n",
        "        91, 90, 92, 89, 94, 93, 95, 87, 86, 88,\n",
        "        80, 78, 76, 81, 82, 84, 79, 83, 85, 77\n",
        "    ],\n",
        "    'group': ['control'] * 40 + ['experimental'] * 40\n",
        "}\n",
        "\n",
        "# Create a DataFrame\n",
        "df = pd.DataFrame(data)\n",
        "\n",
        "# Separate the data into two groups\n",
        "control_group = df[df['group'] == 'control']['test_score']\n",
        "experimental_group = df[df['group'] == 'experimental']['test_score']\n",
        "\n",
        "# Perform two-sample t-test\n",
        "t_stat, p_value = stats.ttest_ind(control_group, experimental_group)\n",
        "\n",
        "print(f'T-statistic: {t_stat}')\n",
        "print(f'P-value: {p_value}')"
      ],
      "metadata": {
        "colab": {
          "base_uri": "https://localhost:8080/"
        },
        "id": "26hJ0FpvEs7D",
        "outputId": "831922f9-fb6a-41c2-df51-ac8d821e05d0"
      },
      "execution_count": 28,
      "outputs": [
        {
          "output_type": "stream",
          "name": "stdout",
          "text": [
            "T-statistic: 0.15074732332139876\n",
            "P-value: 0.8805642122808464\n"
          ]
        }
      ]
    },
    {
      "cell_type": "code",
      "source": [],
      "metadata": {
        "id": "lQCrN96EE6cn"
      },
      "execution_count": null,
      "outputs": []
    },
    {
      "cell_type": "markdown",
      "source": [
        "12. A researcher wants to know if there are any significant differences in the average daily sales of three\n",
        "retail stores: Store A, Store B, and Store C. They randomly select 30 days and record the sales for each store\n",
        "on those days. Conduct a repeated measures ANOVA using Python to determine if there are any\n",
        "\n",
        "significant differences in sales between the three stores. If the results are significant, follow up with a post-\n",
        "hoc test to determine which store(s) differ significantly from each other."
      ],
      "metadata": {
        "id": "Sn4l7L4xE61B"
      }
    },
    {
      "cell_type": "code",
      "source": [
        "import pandas as pd\n",
        "import statsmodels.api as sm\n",
        "from statsmodels.formula.api import ols\n",
        "from statsmodels.stats.anova import AnovaRM\n",
        "\n",
        "# Example data: daily sales for 30 days for each of the three stores\n",
        "# For simplicity, we create a small example dataset. Replace with actual data.\n",
        "data = {\n",
        "    'day': list(range(1, 31)) * 3,\n",
        "    'sales': [\n",
        "        150, 160, 145, 155, 165, 140, 150, 170, 160, 150,\n",
        "        155, 160, 150, 165, 170, 155, 160, 150, 160, 155,\n",
        "        165, 170, 150, 160, 165, 150, 155, 160, 150, 155,\n",
        "        140, 150, 135, 145, 155, 130, 140, 160, 150, 140,\n",
        "        145, 150, 140, 155, 160, 145, 150, 140, 150, 145,\n",
        "        155, 160, 140, 150, 155, 140, 145, 150, 140, 145,\n",
        "        180, 190, 175, 185, 195, 170, 180, 200, 190, 180,\n",
        "        185, 190, 180, 195, 200, 185, 190, 180, 190, 185,\n",
        "        195, 200, 180, 190, 195, 180, 185, 190, 180, 185\n",
        "    ],\n",
        "    'store': ['A'] * 30 + ['B'] * 30 + ['C'] * 30\n",
        "}\n",
        "\n",
        "# Create a DataFrame\n",
        "df = pd.DataFrame(data)\n",
        "\n",
        "# Perform repeated measures ANOVA\n",
        "aovrm = AnovaRM(df, 'sales', 'day', within=['store'])\n",
        "res = aovrm.fit()\n",
        "\n",
        "print(res.summary())"
      ],
      "metadata": {
        "colab": {
          "base_uri": "https://localhost:8080/"
        },
        "id": "onR4f2gdFLRk",
        "outputId": "047d4e5f-d08e-4d4a-d850-54a118d216aa"
      },
      "execution_count": 29,
      "outputs": [
        {
          "output_type": "stream",
          "name": "stdout",
          "text": [
            "                             Anova\n",
            "================================================================\n",
            "                    F Value                Num DF  Den DF Pr > F\n",
            "----------------------------------------------------------------\n",
            "store 1722152748378555409280192741376.0000 2.0000 58.0000 0.0000\n",
            "================================================================\n",
            "\n"
          ]
        }
      ]
    },
    {
      "cell_type": "code",
      "source": [],
      "metadata": {
        "id": "QZ7lh3JtFWQJ"
      },
      "execution_count": null,
      "outputs": []
    }
  ]
}